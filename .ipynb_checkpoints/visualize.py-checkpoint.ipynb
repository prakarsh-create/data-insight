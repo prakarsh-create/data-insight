{
 "cells": [
  {
   "cell_type": "code",
   "execution_count": 1,
   "id": "87776540-6915-4084-897b-17e8cbd62954",
   "metadata": {},
   "outputs": [],
   "source": [
    "import numpy as np\n",
    "import pandas as pd\n",
    "import matplotlib.pyplot as plt\n"
   ]
  },
  {
   "cell_type": "code",
   "execution_count": 3,
   "id": "d1d3cb17-f4dd-4e2b-8a18-60a5dd1c565a",
   "metadata": {},
   "outputs": [],
   "source": [
    "df = pd.read_csv(\"D:/my python/jupyter/Data__Set.csv\")"
   ]
  },
  {
   "cell_type": "code",
   "execution_count": 7,
   "id": "7f825f68-61c4-43cb-8e18-18a31a2358e3",
   "metadata": {},
   "outputs": [
    {
     "name": "stdout",
     "output_type": "stream",
     "text": [
      "<class 'pandas.core.frame.DataFrame'>\n",
      "RangeIndex: 100 entries, 0 to 99\n",
      "Data columns (total 9 columns):\n",
      " #   Column            Non-Null Count  Dtype  \n",
      "---  ------            --------------  -----  \n",
      " 0   Employee_ID       100 non-null    int64  \n",
      " 1   Name              100 non-null    object \n",
      " 2   Age               100 non-null    int64  \n",
      " 3   Department        100 non-null    object \n",
      " 4   Role              100 non-null    object \n",
      " 5   Experience_Years  90 non-null     float64\n",
      " 6   City              100 non-null    object \n",
      " 7   Salary            90 non-null     float64\n",
      " 8   Monthly_Sales     100 non-null    int64  \n",
      "dtypes: float64(2), int64(3), object(4)\n",
      "memory usage: 7.2+ KB\n"
     ]
    }
   ],
   "source": [
    "nullval =df.isnull().sum()\n",
    "notnull = df.notnull().sum()\n",
    "duplcate = df.duplicated().sum()\n",
    "info = df.info()\n",
    "describe = df.describe()\n",
    "columns = df.columns\n",
    "dataType = df.dtypes\n",
    "rowlables = df.index\n",
    "memoryuse = df.memory_usage()\n",
    "\n",
    "\n"
   ]
  },
  {
   "cell_type": "code",
   "execution_count": null,
   "id": "fe5d1560-1756-4648-bad3-6e177d182291",
   "metadata": {},
   "outputs": [],
   "source": [
    "#mathemetic \n",
    "count = input(\"Give columns name for count element:\")\n",
    "countval = df.count([count])\n",
    "mval = int(input(\"give columns name for max value of element:\"))\n",
    "MAXval = df.max([mval])\n",
    "mival = int(input(\"give columns name for min value of element:\"))\n",
    "MINval = df.min([mival])\n",
    "value = int(input(\"Give columns for mean value:\"))\n",
    "Meanval =df.mean([value])\n",
    "value2 = int(input(\"Give the columns for median value:\"))\n",
    "\n"
   ]
  },
  {
   "cell_type": "code",
   "execution_count": null,
   "id": "6a38a323-f845-4e79-b9ce-5f7aefe72ea8",
   "metadata": {},
   "outputs": [],
   "source": [
    "#groupvalue\n",
    "# col1 = input(\"Give columns1:\")\n",
    "# col2 = input(\"Give columns2:\")\n",
    "# col3 = input (\"Give columns3:\")\n",
    "# gr = df.groupby([\"Country\",\"Product\"]).agg({\"Sale Price\" : \"count\"})\n"
   ]
  }
 ],
 "metadata": {
  "kernelspec": {
   "display_name": "Python 3 (ipykernel)",
   "language": "python",
   "name": "python3"
  },
  "language_info": {
   "codemirror_mode": {
    "name": "ipython",
    "version": 3
   },
   "file_extension": ".py",
   "mimetype": "text/x-python",
   "name": "python",
   "nbconvert_exporter": "python",
   "pygments_lexer": "ipython3",
   "version": "3.13.1"
  }
 },
 "nbformat": 4,
 "nbformat_minor": 5
}
